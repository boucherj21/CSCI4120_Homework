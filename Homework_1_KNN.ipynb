{
  "nbformat": 4,
  "nbformat_minor": 0,
  "metadata": {
    "colab": {
      "name": "Homework_1_KNN.ipynb",
      "provenance": [],
      "collapsed_sections": []
    },
    "kernelspec": {
      "name": "python3",
      "display_name": "Python 3"
    },
    "language_info": {
      "name": "python"
    }
  },
  "cells": [
    {
      "cell_type": "code",
      "metadata": {
        "colab": {
          "base_uri": "https://localhost:8080/"
        },
        "id": "RmSB2CVCp69b",
        "outputId": "921edbaf-6722-4837-8d48-f3277176805b"
      },
      "source": [
        "import pandas as pd\n",
        "import numpy as np\n",
        "\n",
        "url = 'https://raw.githubusercontent.com/ruiwu1990/CSCI_4120/master/KNN/iris.data'\n",
        "df = pd.read_csv(url, header=None)\n",
        "print(df.head())"
      ],
      "execution_count": 210,
      "outputs": [
        {
          "output_type": "stream",
          "text": [
            "     0    1    2    3            4\n",
            "0  5.1  3.5  1.4  0.2  Iris-setosa\n",
            "1  4.9  3.0  1.4  0.2  Iris-setosa\n",
            "2  4.7  3.2  1.3  0.2  Iris-setosa\n",
            "3  4.6  3.1  1.5  0.2  Iris-setosa\n",
            "4  5.0  3.6  1.4  0.2  Iris-setosa\n"
          ],
          "name": "stdout"
        }
      ]
    },
    {
      "cell_type": "code",
      "metadata": {
        "id": "gg3px46Gp-TB"
      },
      "source": [
        "import pandas as pd\n",
        "import random\n",
        "\n",
        "\n",
        "def loadDataset(filename, split):\n",
        "\ttrainingSet=[]\n",
        "\ttestSet=[]\n",
        "\tdf = pd.read_csv(url, header=None)\n",
        "\tarray = df.to_numpy()\n",
        "\trandom.shuffle(array)\n",
        "\ttraining_len = int(len(array)*split)\n",
        "\ttrainingSet = array[:training_len]\n",
        "\ttestSet = array[training_len:]\n",
        "\treturn trainingSet, testSet"
      ],
      "execution_count": 225,
      "outputs": []
    },
    {
      "cell_type": "code",
      "metadata": {
        "id": "h828mniwuMMQ"
      },
      "source": [
        "# Load and format data\n",
        "\n",
        "from sklearn import preprocessing\n",
        "\n",
        "trainingSet=[]\n",
        "testSet=[]\n",
        "trainingSet, testSet = loadDataset(url, 0.66)\n",
        "#print(len(trainingSet))\n",
        "#print(len(testSet))\n",
        "\n",
        "# separate data\n",
        "xTraining = trainingSet[:,(0,1,2,3)]\n",
        "yTraining = trainingSet[:,4]\n",
        "xTest = testSet[:,(0,1,2,3)]\n",
        "yTest = testSet[:,4]\n",
        "\n",
        "# encode classifications\n",
        "le = preprocessing.LabelEncoder()\n",
        "le.fit(yTraining)\n",
        "le.fit(yTest)\n",
        "list(le.classes_)\n",
        "yTrainingTrans = le.fit_transform(yTraining)\n",
        "yTestTrans = le.fit_transform(yTest)\n",
        "\n",
        "#print(yTrainingTrans)\n",
        "#print(yTestTrans)"
      ],
      "execution_count": 226,
      "outputs": []
    },
    {
      "cell_type": "code",
      "metadata": {
        "colab": {
          "base_uri": "https://localhost:8080/"
        },
        "id": "jO9obxsAqoj2",
        "outputId": "27eabc95-954d-460f-e5fe-291bff830178"
      },
      "source": [
        "# calculate predictions and accuracies\n",
        "\n",
        "from sklearn.neighbors import KNeighborsClassifier\n",
        "from sklearn import metrics\n",
        "\n",
        "kAccuracyArr=[]\n",
        "n = 10\n",
        "for i in [1,2,3,4,5,6,7,8,9,10,11,12,13,14,15,16,17,18,19,20]:\n",
        "  k=i\n",
        "  accuracy=0\n",
        "  for j in range(n):\n",
        "    neigh = KNeighborsClassifier(k)\n",
        "    neigh.fit(xTraining, yTrainingTrans)\n",
        "    prediction = neigh.predict(xTest)\n",
        "    #print(\"Accuracy (k = \", k, \"): \", metrics.accuracy_score(yTestTrans, prediction))\n",
        "    accuracy = accuracy + metrics.accuracy_score(yTestTrans, prediction)*100\n",
        "\n",
        "  kAccuracyArr.append(accuracy/n)\n",
        "\n",
        "\n",
        "print(kAccuracyArr)\n",
        "print()\n",
        "print(\"Maximum Accuracy: \", max(kAccuracyArr))\n",
        "print(\"Best value for k: \", np.argmax(kAccuracyArr) + 1)"
      ],
      "execution_count": 227,
      "outputs": [
        {
          "output_type": "stream",
          "text": [
            "[82.3529411764706, 82.3529411764706, 82.3529411764706, 82.3529411764706, 82.3529411764706, 82.3529411764706, 82.3529411764706, 82.3529411764706, 82.3529411764706, 82.3529411764706, 82.3529411764706, 82.3529411764706, 82.3529411764706, 82.3529411764706, 82.3529411764706, 80.3921568627451, 80.3921568627451, 80.3921568627451, 80.3921568627451, 80.3921568627451]\n",
            "\n",
            "Maximum Accuracy:  82.3529411764706\n",
            "Best value for k:  1\n"
          ],
          "name": "stdout"
        }
      ]
    },
    {
      "cell_type": "code",
      "metadata": {
        "id": "fWxMnrKntu_2",
        "colab": {
          "base_uri": "https://localhost:8080/",
          "height": 476
        },
        "outputId": "59f333e9-85c1-4058-deea-58dae8575c03"
      },
      "source": [
        "# plot k vs. accuracy\n",
        "\n",
        "import matplotlib as mpl\n",
        "import matplotlib.pyplot as plt\n",
        "plt.style.use('seaborn-whitegrid')\n",
        "\n",
        "#x = np.linspace(0,20,)\n",
        "\n",
        "x = np.array([1,2,3,4,5,6,7,8,9,10,11,12,13,14,15,16,17,18,19,20])\n",
        "y = kAccuracyArr\n",
        "\n",
        "plt.plot(x,y)\n",
        "plt.xlabel(\"k\")\n",
        "plt.ylabel(\"Accuracy (%)\")\n",
        "plt.show"
      ],
      "execution_count": 228,
      "outputs": [
        {
          "output_type": "execute_result",
          "data": {
            "text/plain": [
              "<function matplotlib.pyplot.show>"
            ]
          },
          "metadata": {
            "tags": []
          },
          "execution_count": 228
        },
        {
          "output_type": "display_data",
          "data": {
            "image/png": "[encoded data removed]",
            "text/plain": [
              "<Figure size 640x480 with 1 Axes>"
            ]
          },
          "metadata": {
            "tags": []
          }
        }
      ]
    }
  ]
}